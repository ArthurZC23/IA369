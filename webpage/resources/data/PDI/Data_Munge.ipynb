{
 "cells": [
  {
   "cell_type": "markdown",
   "metadata": {},
   "source": [
    "# Data munge of the SF Police Departments Incidents \n",
    "\n",
    "This notebook will:\n",
    "\n",
    "* Select the incidentes categories that are a threat to tourists\n",
    "* Save them in appropriat formats for use by the webpage"
   ]
  },
  {
   "cell_type": "code",
   "execution_count": 1,
   "metadata": {
    "collapsed": true
   },
   "outputs": [],
   "source": [
    "import numpy as np\n",
    "from pandas import DataFrame\n",
    "import pandas as pd"
   ]
  },
  {
   "cell_type": "markdown",
   "metadata": {},
   "source": [
    "## Overview"
   ]
  },
  {
   "cell_type": "code",
   "execution_count": 2,
   "metadata": {
    "collapsed": false
   },
   "outputs": [
    {
     "data": {
      "text/html": [
       "<div>\n",
       "<table border=\"1\" class=\"dataframe\">\n",
       "  <thead>\n",
       "    <tr style=\"text-align: right;\">\n",
       "      <th></th>\n",
       "      <th>IncidntNum</th>\n",
       "      <th>Category</th>\n",
       "      <th>Descript</th>\n",
       "      <th>DayOfWeek</th>\n",
       "      <th>Date</th>\n",
       "      <th>Time</th>\n",
       "      <th>PdDistrict</th>\n",
       "      <th>Resolution</th>\n",
       "      <th>Address</th>\n",
       "      <th>X</th>\n",
       "      <th>Y</th>\n",
       "      <th>Location</th>\n",
       "      <th>PdId</th>\n",
       "    </tr>\n",
       "  </thead>\n",
       "  <tbody>\n",
       "    <tr>\n",
       "      <th>0</th>\n",
       "      <td>160021160</td>\n",
       "      <td>PROSTITUTION</td>\n",
       "      <td>INMATE/KEEPER OF HOUSE OF PROSTITUTION</td>\n",
       "      <td>Friday</td>\n",
       "      <td>01/08/2016 12:00:00 AM</td>\n",
       "      <td>12:00</td>\n",
       "      <td>CENTRAL</td>\n",
       "      <td>ARREST, BOOKED</td>\n",
       "      <td>300 Block of KEARNY ST</td>\n",
       "      <td>-122.404195</td>\n",
       "      <td>37.791226</td>\n",
       "      <td>(37.7912255174119, -122.404195424821)</td>\n",
       "      <td>16002116013010</td>\n",
       "    </tr>\n",
       "    <tr>\n",
       "      <th>1</th>\n",
       "      <td>160021160</td>\n",
       "      <td>PROSTITUTION</td>\n",
       "      <td>HUMAN TRAFFICKING</td>\n",
       "      <td>Friday</td>\n",
       "      <td>01/08/2016 12:00:00 AM</td>\n",
       "      <td>12:00</td>\n",
       "      <td>CENTRAL</td>\n",
       "      <td>ARREST, BOOKED</td>\n",
       "      <td>300 Block of KEARNY ST</td>\n",
       "      <td>-122.404195</td>\n",
       "      <td>37.791226</td>\n",
       "      <td>(37.7912255174119, -122.404195424821)</td>\n",
       "      <td>16002116013045</td>\n",
       "    </tr>\n",
       "    <tr>\n",
       "      <th>2</th>\n",
       "      <td>160021160</td>\n",
       "      <td>PROSTITUTION</td>\n",
       "      <td>SOLICITS FOR ACT OF PROSTITUTION</td>\n",
       "      <td>Friday</td>\n",
       "      <td>01/08/2016 12:00:00 AM</td>\n",
       "      <td>12:00</td>\n",
       "      <td>CENTRAL</td>\n",
       "      <td>ARREST, BOOKED</td>\n",
       "      <td>300 Block of KEARNY ST</td>\n",
       "      <td>-122.404195</td>\n",
       "      <td>37.791226</td>\n",
       "      <td>(37.7912255174119, -122.404195424821)</td>\n",
       "      <td>16002116013060</td>\n",
       "    </tr>\n",
       "    <tr>\n",
       "      <th>3</th>\n",
       "      <td>160021160</td>\n",
       "      <td>OTHER OFFENSES</td>\n",
       "      <td>MASSAGE ESTABLISHMENT PERMIT VIOLATION</td>\n",
       "      <td>Friday</td>\n",
       "      <td>01/08/2016 12:00:00 AM</td>\n",
       "      <td>12:00</td>\n",
       "      <td>CENTRAL</td>\n",
       "      <td>ARREST, BOOKED</td>\n",
       "      <td>300 Block of KEARNY ST</td>\n",
       "      <td>-122.404195</td>\n",
       "      <td>37.791226</td>\n",
       "      <td>(37.7912255174119, -122.404195424821)</td>\n",
       "      <td>16002116030011</td>\n",
       "    </tr>\n",
       "    <tr>\n",
       "      <th>4</th>\n",
       "      <td>160021160</td>\n",
       "      <td>NON-CRIMINAL</td>\n",
       "      <td>SEARCH WARRANT SERVICE</td>\n",
       "      <td>Friday</td>\n",
       "      <td>01/08/2016 12:00:00 AM</td>\n",
       "      <td>12:00</td>\n",
       "      <td>CENTRAL</td>\n",
       "      <td>ARREST, BOOKED</td>\n",
       "      <td>300 Block of KEARNY ST</td>\n",
       "      <td>-122.404195</td>\n",
       "      <td>37.791226</td>\n",
       "      <td>(37.7912255174119, -122.404195424821)</td>\n",
       "      <td>16002116075025</td>\n",
       "    </tr>\n",
       "  </tbody>\n",
       "</table>\n",
       "</div>"
      ],
      "text/plain": [
       "   IncidntNum        Category                                Descript  \\\n",
       "0   160021160    PROSTITUTION  INMATE/KEEPER OF HOUSE OF PROSTITUTION   \n",
       "1   160021160    PROSTITUTION                       HUMAN TRAFFICKING   \n",
       "2   160021160    PROSTITUTION        SOLICITS FOR ACT OF PROSTITUTION   \n",
       "3   160021160  OTHER OFFENSES  MASSAGE ESTABLISHMENT PERMIT VIOLATION   \n",
       "4   160021160    NON-CRIMINAL                  SEARCH WARRANT SERVICE   \n",
       "\n",
       "  DayOfWeek                    Date   Time PdDistrict      Resolution  \\\n",
       "0    Friday  01/08/2016 12:00:00 AM  12:00    CENTRAL  ARREST, BOOKED   \n",
       "1    Friday  01/08/2016 12:00:00 AM  12:00    CENTRAL  ARREST, BOOKED   \n",
       "2    Friday  01/08/2016 12:00:00 AM  12:00    CENTRAL  ARREST, BOOKED   \n",
       "3    Friday  01/08/2016 12:00:00 AM  12:00    CENTRAL  ARREST, BOOKED   \n",
       "4    Friday  01/08/2016 12:00:00 AM  12:00    CENTRAL  ARREST, BOOKED   \n",
       "\n",
       "                  Address           X          Y  \\\n",
       "0  300 Block of KEARNY ST -122.404195  37.791226   \n",
       "1  300 Block of KEARNY ST -122.404195  37.791226   \n",
       "2  300 Block of KEARNY ST -122.404195  37.791226   \n",
       "3  300 Block of KEARNY ST -122.404195  37.791226   \n",
       "4  300 Block of KEARNY ST -122.404195  37.791226   \n",
       "\n",
       "                                Location            PdId  \n",
       "0  (37.7912255174119, -122.404195424821)  16002116013010  \n",
       "1  (37.7912255174119, -122.404195424821)  16002116013045  \n",
       "2  (37.7912255174119, -122.404195424821)  16002116013060  \n",
       "3  (37.7912255174119, -122.404195424821)  16002116030011  \n",
       "4  (37.7912255174119, -122.404195424821)  16002116075025  "
      ]
     },
     "execution_count": 2,
     "metadata": {},
     "output_type": "execute_result"
    }
   ],
   "source": [
    "sf_df = pd.read_csv('PDI_2016.csv')\n",
    "sf_df.head()"
   ]
  },
  {
   "cell_type": "markdown",
   "metadata": {},
   "source": [
    "## Filter relevant columns\n",
    "\n",
    "Not all incidents type are a threat to tourists. For instance, burglary is not a major problem for non-residents"
   ]
  },
  {
   "cell_type": "code",
   "execution_count": 3,
   "metadata": {
    "collapsed": false
   },
   "outputs": [
    {
     "data": {
      "text/plain": [
       "array(['PROSTITUTION', 'OTHER OFFENSES', 'NON-CRIMINAL', 'LARCENY/THEFT',\n",
       "       'WARRANTS', 'DRUG/NARCOTIC', 'SECONDARY CODES', 'BURGLARY',\n",
       "       'VEHICLE THEFT', 'ASSAULT', 'VANDALISM', 'ROBBERY', 'FRAUD',\n",
       "       'MISSING PERSON', 'SUSPICIOUS OCC', 'STOLEN PROPERTY',\n",
       "       'DRIVING UNDER THE INFLUENCE', 'WEAPON LAWS', 'DRUNKENNESS',\n",
       "       'TRESPASS', 'BAD CHECKS', 'FORGERY/COUNTERFEITING',\n",
       "       'SEX OFFENSES, FORCIBLE', 'DISORDERLY CONDUCT', 'RECOVERED VEHICLE',\n",
       "       'RUNAWAY', 'ARSON', 'LOITERING', 'LIQUOR LAWS', 'KIDNAPPING',\n",
       "       'EXTORTION', 'FAMILY OFFENSES', 'EMBEZZLEMENT', 'BRIBERY',\n",
       "       'SEX OFFENSES, NON FORCIBLE', 'PORNOGRAPHY/OBSCENE MAT', 'SUICIDE',\n",
       "       'GAMBLING', 'TREA'], dtype=object)"
      ]
     },
     "execution_count": 3,
     "metadata": {},
     "output_type": "execute_result"
    }
   ],
   "source": [
    "sf_df.Category.unique()"
   ]
  },
  {
   "cell_type": "code",
   "execution_count": 4,
   "metadata": {
    "collapsed": false
   },
   "outputs": [],
   "source": [
    "crimes_tourist_dont_care = [\n",
    "    'OTHER OFFENSES', \n",
    "    'NON-CRIMINAL', \n",
    "    'WARRANTS',\n",
    "    'SECONDARY CODES', \n",
    "    'BURGLARY',\n",
    "    'VANDALISM', \n",
    "    'FRAUD',\n",
    "    'SUSPICIOUS OCC', \n",
    "    'DRUNKENNESS',\n",
    "    'TRESPASS', \n",
    "    'BAD CHECKS', \n",
    "    'FORGERY/COUNTERFEITING',\n",
    "    'DISORDERLY CONDUCT', \n",
    "    'RECOVERED VEHICLE',\n",
    "    'RUNAWAY', \n",
    "    'LOITERING', \n",
    "    'LIQUOR LAWS',\n",
    "    'EXTORTION', \n",
    "    'FAMILY OFFENSES', \n",
    "    'EMBEZZLEMENT', \n",
    "    'BRIBERY',\n",
    "    'SEX OFFENSES, NON FORCIBLE', \n",
    "    'PORNOGRAPHY/OBSCENE MAT', \n",
    "    'SUICIDE',\n",
    "    'GAMBLING', \n",
    "    'TREA'\n",
    "]"
   ]
  },
  {
   "cell_type": "code",
   "execution_count": 5,
   "metadata": {
    "collapsed": false
   },
   "outputs": [
    {
     "data": {
      "text/plain": [
       "array(['PROSTITUTION', 'LARCENY/THEFT', 'DRUG/NARCOTIC', 'VEHICLE THEFT',\n",
       "       'ASSAULT', 'ROBBERY', 'MISSING PERSON', 'STOLEN PROPERTY',\n",
       "       'DRIVING UNDER THE INFLUENCE', 'WEAPON LAWS',\n",
       "       'SEX OFFENSES, FORCIBLE', 'ARSON', 'KIDNAPPING'], dtype=object)"
      ]
     },
     "execution_count": 5,
     "metadata": {},
     "output_type": "execute_result"
    }
   ],
   "source": [
    "for crime in crimes_tourist_dont_care:\n",
    "    \n",
    "    sf_df = sf_df[sf_df.Category.str.contains(crime) == False]\n",
    "\n",
    "sf_df = sf_df.ix[:, ['Category', 'DayOfWeek', 'Date', 'Time', 'PdDistrict', 'Resolution', 'Address', 'Location']]\n",
    "#sf_df = sf_df.ix[:, ['Category', 'Y', 'X']]\n",
    "sf_df.Category.unique()"
   ]
  },
  {
   "cell_type": "markdown",
   "metadata": {},
   "source": [
    "## Rename categories\n",
    "\n",
    "Rename some categories to make identification of the type of crime easier"
   ]
  },
  {
   "cell_type": "code",
   "execution_count": 6,
   "metadata": {
    "collapsed": false
   },
   "outputs": [],
   "source": [
    "sf_df = sf_df.replace({'Category': {'LARCENY/THEFT': 'THEFT'} })\n",
    "sf_df = sf_df.replace({'Category': {'DRUG/NARCOTIC': 'DRUG'} })"
   ]
  },
  {
   "cell_type": "markdown",
   "metadata": {},
   "source": [
    "## Crime locations\n",
    "\n",
    "This is the current solution to plot the safety circle. **It will be deprecated in the near future**."
   ]
  },
  {
   "cell_type": "code",
   "execution_count": 7,
   "metadata": {
    "collapsed": false
   },
   "outputs": [],
   "source": [
    "locations_df = sf_df.ix[:, ['Y', 'X']]\n",
    "locations = locations_df.as_matrix()"
   ]
  },
  {
   "cell_type": "markdown",
   "metadata": {},
   "source": [
    "### Save js arrays\n",
    "\n",
    "save locations in javascript arrays. **This is a poor solution and it will be deprecated in the future**."
   ]
  },
  {
   "cell_type": "code",
   "execution_count": 8,
   "metadata": {
    "collapsed": false
   },
   "outputs": [],
   "source": [
    "with open('../../js/crimeLatitudes.js', 'w') as f:\n",
    "    f.write('var crimeLatitudes = [\\n')\n",
    "    for location in locations[:-1]:\n",
    "        f.write('{0},\\n'.format(location[0]))\n",
    "    f.write('{0}\\n'.format(locations[-1][0])) # No comma\n",
    "    f.write(']')"
   ]
  },
  {
   "cell_type": "code",
   "execution_count": 9,
   "metadata": {
    "collapsed": true
   },
   "outputs": [],
   "source": [
    "with open('../../js/crimeLongitudes.js', 'w') as f:\n",
    "    f.write('var crimeLongitudes = [\\n')\n",
    "    for location in locations[:-1]:\n",
    "        f.write('{0},\\n'.format(location[1]))\n",
    "    f.write('{0}\\n'.format(locations[-1][1])) # No comma\n",
    "    f.write(']')"
   ]
  },
  {
   "cell_type": "markdown",
   "metadata": {
    "collapsed": true
   },
   "source": [
    "## New solution\n",
    "\n",
    "Save the dataframe of interest as a json. The dataframe will have more columns besides 'Y' and 'X'."
   ]
  },
  {
   "cell_type": "code",
   "execution_count": 10,
   "metadata": {
    "collapsed": true
   },
   "outputs": [],
   "source": [
    "sf_df.to_json(\n",
    "    path_or_buf='sfCrimeTourist2016.json', \n",
    "    orient='records')"
   ]
  },
  {
   "cell_type": "code",
   "execution_count": 13,
   "metadata": {
    "collapsed": false
   },
   "outputs": [
    {
     "data": {
      "text/plain": [
       "0         (37.7912255174119, -122.404195424821)\n",
       "1         (37.7912255174119, -122.404195424821)\n",
       "2         (37.7912255174119, -122.404195424821)\n",
       "5         (37.7868516471087, -122.421441956086)\n",
       "8         (37.7816542806076, -122.415508242782)\n",
       "9         (37.7816542806076, -122.415508242782)\n",
       "11        (37.7852071918419, -122.406690592261)\n",
       "14        (37.7857828233879, -122.428151140162)\n",
       "17        (37.7830791191471, -122.393622739343)\n",
       "18         (37.786137125238, -122.419858277339)\n",
       "20        (37.7640756627972, -122.403399653371)\n",
       "23        (37.7830791191471, -122.393622739343)\n",
       "24         (37.781863316866, -122.414302052544)\n",
       "28        (37.7902088255652, -122.423156806774)\n",
       "30        (37.7817511307229, -122.411071423064)\n",
       "31        (37.7817511307229, -122.411071423064)\n",
       "32        (37.7980205895825, -122.435679786498)\n",
       "34          (37.78123525699, -122.418809581375)\n",
       "36         (37.742315306831, -122.388192921769)\n",
       "41         (37.775420706711, -122.403404791479)\n",
       "42        (37.7745145380854, -122.452839772389)\n",
       "43        (37.7430505534925, -122.475644251197)\n",
       "49        (37.7971999610683, -122.427083705837)\n",
       "51        (37.7314400806123, -122.450026603043)\n",
       "53        (37.7858882195106, -122.411742515582)\n",
       "56        (37.7863086885804, -122.416452065595)\n",
       "60         (37.7774566611807, -122.41316085097)\n",
       "61         (37.7852901068336, -122.39099120026)\n",
       "62        (37.7827388378288, -122.445217147539)\n",
       "64        (37.7195125768476, -122.474776541892)\n",
       "                          ...                  \n",
       "150171    (37.7804777480508, -122.412515341356)\n",
       "150173    (37.7858926099715, -122.419739837805)\n",
       "150174     (37.787148807979, -122.409876622532)\n",
       "150175     (37.7806600950548, -122.42291369529)\n",
       "150176     (37.8046348825476, -122.41426677512)\n",
       "150177     (37.8046348825476, -122.41426677512)\n",
       "150179     (37.7763172146255, -122.40838337313)\n",
       "150181    (37.7739344794834, -122.446091525499)\n",
       "150182     (37.774750702851, -122.416468768127)\n",
       "150183    (37.7878271137225, -122.408384275542)\n",
       "150190    (37.7285280627465, -122.475647460786)\n",
       "150196    (37.7672442209616, -122.510225749052)\n",
       "150199    (37.7833104067015, -122.388379873919)\n",
       "150202    (37.7251072655052, -122.431252746655)\n",
       "150203     (37.775420706711, -122.403404791479)\n",
       "150210     (37.761292552214, -122.506994366516)\n",
       "150211    (37.7778221483398, -122.492094631155)\n",
       "150214    (37.7941169057941, -122.396556426173)\n",
       "150215     (37.778293520129, -122.415448759562)\n",
       "150216    (37.7323312464378, -122.378392257534)\n",
       "150217     (37.775420706711, -122.403404791479)\n",
       "150218    (37.7803348745141, -122.437236101904)\n",
       "150219    (37.7422600519555, -122.387939452192)\n",
       "150220    (37.7399451834026, -122.382742108888)\n",
       "150221    (37.7760329501244, -122.411271940537)\n",
       "150222    (37.7618358012376, -122.419360352761)\n",
       "150223    (37.7618672648972, -122.419748993977)\n",
       "150224    (37.7714278595913, -122.453981622365)\n",
       "150226     (37.7437268170337, -122.48118317163)\n",
       "150227     (37.775420706711, -122.403404791479)\n",
       "Name: Location, dtype: object"
      ]
     },
     "execution_count": 13,
     "metadata": {},
     "output_type": "execute_result"
    }
   ],
   "source": [
    "sf_df.Location"
   ]
  },
  {
   "cell_type": "code",
   "execution_count": null,
   "metadata": {
    "collapsed": true
   },
   "outputs": [],
   "source": []
  }
 ],
 "metadata": {
  "kernelspec": {
   "display_name": "Python IA369",
   "language": "python",
   "name": ".ia369"
  },
  "language_info": {
   "codemirror_mode": {
    "name": "ipython",
    "version": 3
   },
   "file_extension": ".py",
   "mimetype": "text/x-python",
   "name": "python",
   "nbconvert_exporter": "python",
   "pygments_lexer": "ipython3",
   "version": "3.5.2"
  }
 },
 "nbformat": 4,
 "nbformat_minor": 1
}
